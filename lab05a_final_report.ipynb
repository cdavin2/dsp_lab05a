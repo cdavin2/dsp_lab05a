{
 "cells": [
  {
   "cell_type": "markdown",
   "metadata": {},
   "source": [
    "<h1><center>\n",
    "    ECE 438 - Laboratory 5a<br/>\n",
    "    Digital Filter Design (Week 1)<br/>\n",
    "    <small>Last updated on February 13, 2022</small><br/>\n",
    "    <br/>\n",
    "    Date:<br/>\n",
    "    Section:<br/>\n",
    "</center></h1>"
   ]
  },
  {
   "cell_type": "markdown",
   "metadata": {},
   "source": [
    "|Name |Signature |Time spent outside lab|\n",
    "|:---:|:---:|:---:|\n",
    "|Student Name #1 [---%]| | |\n",
    "|Student Name #2 [---%]| | |"
   ]
  },
  {
   "cell_type": "markdown",
   "metadata": {},
   "source": [
    "||Below expectations| Lacks in some respect|Meets all expectations|\n",
    "|:---:|:---:|:---:|:---:|\n",
    "|**Completeness of the report**||||\n",
    "|**Organization of the report**||||\n",
    "|**Quality of figures**: *Correctly labeled with title, x-axis, y-axis, and name(s)*||||\n",
    "|**Understanding and implementation of simple FIR filter (40 pts)**: *Difference eq., flow diagram, impulse response, plots of magnitude response, plots of original and filtered signals and their DTFT, matlab code, questions*||||\n",
    "|**Understanding and implementation of simple IIR filter (40 pts)**: *Difference eq., flow diagram, impulse response, plots of magnitude response, plots of original and filtered signals and their DTFT, matlab code, questions*||||\n",
    "|**Understanding parameters of lowpass filter design (20 pts)**: *Magnitude response plots with marked regions, questions*||||"
   ]
  },
  {
   "cell_type": "code",
   "execution_count": 1,
   "metadata": {},
   "outputs": [],
   "source": [
    "import numpy as np\n",
    "import matplotlib.pyplot as plt\n",
    "import soundfile as sf\n",
    "import IPython.display as ipd"
   ]
  },
  {
   "cell_type": "code",
   "execution_count": 2,
   "metadata": {},
   "outputs": [],
   "source": [
    "# make sure the plot is displayed in this notebook\n",
    "%matplotlib inline\n",
    "# specify the size of the plot\n",
    "plt.rcParams['figure.figsize'] = (16, 6)\n",
    "\n",
    "# for auto-reloading extenrnal modules\n",
    "%load_ext autoreload\n",
    "%autoreload 2"
   ]
  },
  {
   "cell_type": "markdown",
   "metadata": {},
   "source": [
    "<h3 style=\"color:red;\"><left>Exercise 3.1</left></h3>"
   ]
  },
  {
   "cell_type": "markdown",
   "metadata": {},
   "source": [
    "**1. Submit the difference equation for the filter $H_f(z)$.**"
   ]
  },
  {
   "cell_type": "markdown",
   "metadata": {},
   "source": [
    "Insert your answer here"
   ]
  },
  {
   "cell_type": "markdown",
   "metadata": {},
   "source": [
    "**2. Submit the system diagram of the impulse response for the filter $H_f(z)$.**"
   ]
  },
  {
   "cell_type": "markdown",
   "metadata": {},
   "source": [
    "Insert your answer here"
   ]
  },
  {
   "cell_type": "markdown",
   "metadata": {},
   "source": [
    "**3. Submit the analytical expression of the impulse response for the filter $H_f(z)$.**"
   ]
  },
  {
   "cell_type": "markdown",
   "metadata": {},
   "source": [
    "Insert your answer here"
   ]
  },
  {
   "cell_type": "markdown",
   "metadata": {},
   "source": [
    "**4. Write Python code to compute and plot the magnitude of the filter’s frequency response $|H_f(e^{j\\omega})|$ as a function of $\\omega$ on the interval $−\\pi < \\omega < \\pi$, for the following three values of $\\theta$:**\n",
    "\n",
    "* $\\theta=\\pi/6$\n",
    "* $\\theta=\\pi/3$\n",
    "* $\\theta=\\pi/2$"
   ]
  },
  {
   "cell_type": "code",
   "execution_count": 3,
   "metadata": {},
   "outputs": [],
   "source": [
    "# insert your code here\n"
   ]
  },
  {
   "cell_type": "markdown",
   "metadata": {},
   "source": [
    "**5. Explain how the value of $\\theta$ affects the magnitude of the filter's frequency response.**"
   ]
  },
  {
   "cell_type": "markdown",
   "metadata": {},
   "source": [
    "Insert your answer here"
   ]
  },
  {
   "cell_type": "markdown",
   "metadata": {},
   "source": [
    "<h3 style=\"color:red;\"><left>Exercise 3.2</left></h3>"
   ]
  },
  {
   "cell_type": "markdown",
   "metadata": {},
   "source": [
    "In the next experiment, we will use the filter $H_f(z)$ to remove an undesirable sinusoidal interference from a speech signal. To run the experiment, load ```nspeech1.npy``` into Python using the command ```nspeech1 = np.load(\"nspeech1.npy\")```."
   ]
  },
  {
   "cell_type": "markdown",
   "metadata": {},
   "source": [
    "**1. Play ```nspeech1``` using the command ```ipd.Audio(nspeech1, rate=8000)```.**"
   ]
  },
  {
   "cell_type": "code",
   "execution_count": 4,
   "metadata": {},
   "outputs": [],
   "source": [
    "# insert your code here\n"
   ]
  },
  {
   "cell_type": "markdown",
   "metadata": {},
   "source": [
    "**2. Plot $101$ samples of the signal for the time indices ```[99:200]```.**"
   ]
  },
  {
   "cell_type": "code",
   "execution_count": 5,
   "metadata": {},
   "outputs": [],
   "source": [
    "# insert your code here\n"
   ]
  },
  {
   "cell_type": "markdown",
   "metadata": {},
   "source": [
    "---"
   ]
  },
  {
   "cell_type": "markdown",
   "metadata": {},
   "source": [
    "We will next use the ```DTFT``` function provided in the file ```helper.py``` to compute samples of the DTFT of the audio signal. Run the following code to import the function. Note that the command ```X, w = DTFT(x, 0)``` will generate a DTFT that is the same duration as the input; if this is not sufficient, it may be increased by specifying ```M```."
   ]
  },
  {
   "cell_type": "code",
   "execution_count": 6,
   "metadata": {},
   "outputs": [],
   "source": [
    "from helper import DTFT"
   ]
  },
  {
   "cell_type": "markdown",
   "metadata": {},
   "source": [
    "**3. Compute the the DTFT of $1001$ samples of the audio signal for the time indices ```[99:1100]```. Then plot the magnitude of the DTFT samples versus frequency for $|\\omega|<\\pi$.**"
   ]
  },
  {
   "cell_type": "code",
   "execution_count": 7,
   "metadata": {},
   "outputs": [],
   "source": [
    "# insert your code here\n"
   ]
  },
  {
   "cell_type": "markdown",
   "metadata": {},
   "source": [
    "---"
   ]
  },
  {
   "cell_type": "markdown",
   "metadata": {},
   "source": [
    "Notice that there are two large peaks corresponding to the sinusoidal interference signal in the plot you drew above."
   ]
  },
  {
   "cell_type": "markdown",
   "metadata": {},
   "source": [
    "**4. Use the command [```np.argmax()```](https://numpy.org/doc/stable/reference/generated/numpy.argmax.html) to determine the exact frequency of the peaks. This will\n",
    "be the value of $\\theta$ that we will use for filtering with $H_f(z)$. Print out the result.**\n",
    "\n",
    "**Hint:** use the command ```idx_max = np.argmax(np.abs(X))``` to find the index of the maximum element in ```X```. Then $\\theta$ can be derived using this index."
   ]
  },
  {
   "cell_type": "code",
   "execution_count": 8,
   "metadata": {},
   "outputs": [],
   "source": [
    "# insert your code here\n"
   ]
  },
  {
   "cell_type": "markdown",
   "metadata": {},
   "source": [
    "**5. Complete the function ```FIRfilter``` that implements the filter $H_f(z)$ with the measured value of $\\theta$ and outputs the filtered signal (Hint: Use ```np.convolve()```).**"
   ]
  },
  {
   "cell_type": "code",
   "execution_count": 9,
   "metadata": {},
   "outputs": [],
   "source": [
    "def FIRfilter(x, theta):\n",
    "    \"\"\"\n",
    "    Parameters:\n",
    "    ---\n",
    "    x: the signal to be filtered\n",
    "    theta: the value of theta to be used for filtering with H_f(z)\n",
    "    \n",
    "    Returns:\n",
    "    ---\n",
    "    y: the filtered signal\n",
    "    \"\"\"\n",
    "    y = None\n",
    "    return y"
   ]
  },
  {
   "cell_type": "markdown",
   "metadata": {},
   "source": [
    "**6. Apply the new function ```FIRfilter``` to the ```nspeech1``` vector to attenuate the sinusoidal interference. Listen to the filtered signal to hear the effects of the filter.**"
   ]
  },
  {
   "cell_type": "code",
   "execution_count": 10,
   "metadata": {},
   "outputs": [],
   "source": [
    "# insert your code here\n"
   ]
  },
  {
   "cell_type": "markdown",
   "metadata": {},
   "source": [
    "**7. Comment on how the filtering changed the quality of the audio signal.**"
   ]
  },
  {
   "cell_type": "markdown",
   "metadata": {},
   "source": [
    "Insert your answer here"
   ]
  },
  {
   "cell_type": "markdown",
   "metadata": {},
   "source": [
    "**8. Plot $101$ samples of the filtered signal for the time indices ```[99:200]```.**"
   ]
  },
  {
   "cell_type": "code",
   "execution_count": 11,
   "metadata": {},
   "outputs": [],
   "source": [
    "# insert your code here\n"
   ]
  },
  {
   "cell_type": "markdown",
   "metadata": {},
   "source": [
    "**9. Plot the magnitude of the DTFT of 1001 samples of the filtered signal for the time indices ```[99:1100]```.**"
   ]
  },
  {
   "cell_type": "code",
   "execution_count": 12,
   "metadata": {},
   "outputs": [],
   "source": [
    "# insert your code here\n"
   ]
  },
  {
   "cell_type": "markdown",
   "metadata": {},
   "source": [
    "**10. Is the filter we used a lowpass, highpass, bandpass, or a bandstop filter? Comment on how the frequency content of the signal changed after filtering.**"
   ]
  },
  {
   "cell_type": "markdown",
   "metadata": {},
   "source": [
    "Inser your answer here"
   ]
  },
  {
   "cell_type": "markdown",
   "metadata": {},
   "source": [
    "<h3 style=\"color:red;\"><left>Exercise 4.1</left></h3>"
   ]
  },
  {
   "cell_type": "markdown",
   "metadata": {},
   "source": [
    "**1. Submit the difference equation for the filter $H_i(z)$.**"
   ]
  },
  {
   "cell_type": "markdown",
   "metadata": {},
   "source": [
    "insert your answer here"
   ]
  },
  {
   "cell_type": "markdown",
   "metadata": {},
   "source": [
    "**2. Submit the system diagram of the impulse response for the filter $H_i(z)$.**"
   ]
  },
  {
   "cell_type": "markdown",
   "metadata": {},
   "source": [
    "insert your answer here"
   ]
  },
  {
   "cell_type": "markdown",
   "metadata": {},
   "source": [
    "**3. Submit the analytical expression of the impulse response for the filter $H_i(z)$.**\n",
    "\n",
    "**Hint:** the frequency response of the system can be obtained by restricting the $Z$-transform to the unit circle. So the DTFT of $h_i[n]$ is $H_i(e^{j\\omega})$. Therefore, to get $h_i[n]$, you can take the inverse Fourier transform of $H_i(e^{j\\omega})$."
   ]
  },
  {
   "cell_type": "markdown",
   "metadata": {},
   "source": [
    "insert your answer here"
   ]
  },
  {
   "cell_type": "markdown",
   "metadata": {},
   "source": [
    "**4. Write Python code to calculate and plot the magnitude of the filter’s frequency response $|H_i(e^{j\\omega})|$ on $|\\omega| < \\pi$ for $\\theta = \\pi/3$ and the following three values of $r$:**\n",
    "* $r=0.99$\n",
    "* $r=0.9$\n",
    "* $r=0.7$"
   ]
  },
  {
   "cell_type": "code",
   "execution_count": 13,
   "metadata": {},
   "outputs": [],
   "source": [
    "# insert your code here\n"
   ]
  },
  {
   "cell_type": "markdown",
   "metadata": {},
   "source": [
    "**5. Explain how the value of $r$ affects this magnitude.**"
   ]
  },
  {
   "cell_type": "markdown",
   "metadata": {},
   "source": [
    "insert your answer here"
   ]
  },
  {
   "cell_type": "markdown",
   "metadata": {},
   "source": [
    "<h3 style=\"color:red;\"><left>Exercise 4.2</left></h3>"
   ]
  },
  {
   "cell_type": "markdown",
   "metadata": {},
   "source": [
    "In the following experiment, we will use the filter $H_i(z)$ to separate a modulated sinusoid from background noise."
   ]
  },
  {
   "cell_type": "markdown",
   "metadata": {},
   "source": [
    "**1. Load the file ```pcm.npy``` and play it.**"
   ]
  },
  {
   "cell_type": "code",
   "execution_count": 14,
   "metadata": {},
   "outputs": [],
   "source": [
    "# insert your code here\n"
   ]
  },
  {
   "cell_type": "markdown",
   "metadata": {},
   "source": [
    "**2. Plot $101$ samples of the signal for the time indices ```[99:200]```.**"
   ]
  },
  {
   "cell_type": "code",
   "execution_count": 15,
   "metadata": {},
   "outputs": [],
   "source": [
    "# insert your code here\n"
   ]
  },
  {
   "cell_type": "markdown",
   "metadata": {},
   "source": [
    "**3. Compute the the DTFT of $1001$ samples of the audio signal for the time indices ```[99:1100]```. Then plot the magnitude of the DTFT samples versus frequency for $|\\omega|<\\pi$.**"
   ]
  },
  {
   "cell_type": "code",
   "execution_count": 16,
   "metadata": {},
   "outputs": [],
   "source": [
    "# insert your code here\n"
   ]
  },
  {
   "cell_type": "markdown",
   "metadata": {},
   "source": [
    "---"
   ]
  },
  {
   "cell_type": "markdown",
   "metadata": {},
   "source": [
    "The two peaks in the spectrum correspond to the center frequency of the modulated signal. The low amplitude wideband content is the background noise. In this exercise, you will use the IIR filter described above to amplify the desired signal, relative to the background noise."
   ]
  },
  {
   "cell_type": "markdown",
   "metadata": {},
   "source": [
    "**4. The pcm signal is modulated at $3146\\text{ Hz}$ and sampled at $8\\text{ kHz}$. Use these values to calculate the value of $\\theta$ for the filter $H_i(z)$. Remember from the sampling theorem that a radial frequency of $2\\pi$ corresponds to the sampling frequency. Print out the value of $\\theta$.**"
   ]
  },
  {
   "cell_type": "code",
   "execution_count": 17,
   "metadata": {},
   "outputs": [],
   "source": [
    "# insert your code here\n"
   ]
  },
  {
   "cell_type": "markdown",
   "metadata": {},
   "source": [
    "**5. Plot the magnitude of the DTFT for $\\omega$ in the range $[\\theta−0.02, \\theta+0.02]$.**"
   ]
  },
  {
   "cell_type": "code",
   "execution_count": 18,
   "metadata": {},
   "outputs": [],
   "source": [
    "# insert your code here\n"
   ]
  },
  {
   "cell_type": "markdown",
   "metadata": {},
   "source": [
    "**6. Complete the function ```IIRfilter``` that implements the filter $H_i(z)$. In this case, you need to use a for loop to implement the recursive difference equation. Use your calculated value of $\\theta$ and $r = 0.995$. You can assume that $y[n]$ is equal to $0$ for negative values of $n$.**"
   ]
  },
  {
   "cell_type": "code",
   "execution_count": 19,
   "metadata": {},
   "outputs": [],
   "source": [
    "def IIRfilter(x, theta):\n",
    "    \"\"\"\n",
    "    Parameters:\n",
    "    ---\n",
    "    x: the signal to filtered\n",
    "    theta: the calculated value of theta\n",
    "    \n",
    "    Returns:\n",
    "    ---\n",
    "    y: the filtered signal\n",
    "    \"\"\"\n",
    "    y = None\n",
    "    return y"
   ]
  },
  {
   "cell_type": "markdown",
   "metadata": {},
   "source": [
    "**7. Apply the function ```IIRfilter``` to the signal ```pcm``` to separate the desired signal from the background noise, and listen to the filtered signal to hear the effects.**"
   ]
  },
  {
   "cell_type": "code",
   "execution_count": 20,
   "metadata": {},
   "outputs": [],
   "source": [
    "# insert your code here\n"
   ]
  },
  {
   "cell_type": "markdown",
   "metadata": {},
   "source": [
    "**8. Comment on how the signal sounds before and after filtering.**"
   ]
  },
  {
   "cell_type": "markdown",
   "metadata": {},
   "source": [
    "insert your answer here"
   ]
  },
  {
   "cell_type": "markdown",
   "metadata": {},
   "source": [
    "**9. Plot the filtered signal for indices ```[99:200]```.**"
   ]
  },
  {
   "cell_type": "code",
   "execution_count": 21,
   "metadata": {},
   "outputs": [],
   "source": [
    "# insert your code here\n"
   ]
  },
  {
   "cell_type": "markdown",
   "metadata": {},
   "source": [
    "**10. Compute the DTFT of $1001$ samples of the filtered signal using the time indices ```[99:1100]``` and plot the magnitude of this DTFT.**"
   ]
  },
  {
   "cell_type": "code",
   "execution_count": 22,
   "metadata": {},
   "outputs": [],
   "source": [
    "# insert your code here\n"
   ]
  },
  {
   "cell_type": "markdown",
   "metadata": {},
   "source": [
    "**11. In order to see the DTFT around $\\omega = \\theta$ more clearly, plot also the portion of this DTFT for the values of $\\omega$ in the range $[\\theta − 0.02, \\theta + 0.02]$. Use your calculated value of $\\theta$.**"
   ]
  },
  {
   "cell_type": "code",
   "execution_count": 23,
   "metadata": {},
   "outputs": [],
   "source": [
    "# insert your code here\n"
   ]
  },
  {
   "cell_type": "markdown",
   "metadata": {},
   "source": [
    "**12. Comment on how the signal looks before and after filtering.**"
   ]
  },
  {
   "cell_type": "markdown",
   "metadata": {},
   "source": [
    "insert your answer here"
   ]
  },
  {
   "cell_type": "markdown",
   "metadata": {},
   "source": [
    "**13. How would you expect changes in $r$ to change the filtered output? Would a value of $r = 0.9999999$ be effective for this application? Why might such a value for $r$ be ill-advised? (Consider the spectrum of the desired signal around $\\omega = \\theta$.)**"
   ]
  },
  {
   "cell_type": "markdown",
   "metadata": {},
   "source": [
    "insert your answer here"
   ]
  },
  {
   "cell_type": "markdown",
   "metadata": {},
   "source": [
    "<h3 style=\"color:red;\"><left>Exercise 5.1</left></h3>"
   ]
  },
  {
   "cell_type": "markdown",
   "metadata": {},
   "source": [
    "**1. To examine the effect of filter size on the frequency characteristics of the filter, complete the function ```LPFtrunc(N)``` that computes the truncated and shifted impulse response of size ```N``` for a low pass filter with a cutoff frequency of $\\omega_c = 2.0$.**"
   ]
  },
  {
   "cell_type": "code",
   "execution_count": 24,
   "metadata": {},
   "outputs": [],
   "source": [
    "def LPFtrunc(N):\n",
    "    \"\"\"\n",
    "    Parameters:\n",
    "    ---\n",
    "    N: the size\n",
    "    \n",
    "    Returns\n",
    "    ---\n",
    "    h: the truncated and shifted impulse response\n",
    "    \"\"\"\n",
    "    h = None\n",
    "    return h"
   ]
  },
  {
   "cell_type": "markdown",
   "metadata": {},
   "source": [
    "**2. For each of the following filter sizes, compute the filter’s DTFT.**\n",
    "* $N=21$\n",
    "* $N=101$\n",
    "\n",
    "**Hints:** To get an accurate representation of the DTFT make sure that you compute at\n",
    "least $512$ sample points using the command ```X, w = DTFT(filter_response, 512)```."
   ]
  },
  {
   "cell_type": "code",
   "execution_count": 25,
   "metadata": {},
   "outputs": [],
   "source": [
    "# insert your code here\n"
   ]
  },
  {
   "cell_type": "markdown",
   "metadata": {},
   "source": [
    "**3. Plot the magnitude of both filters' DTFTs. On each of the plots, mark the passband, the transition band and the stopband.**"
   ]
  },
  {
   "cell_type": "code",
   "execution_count": 26,
   "metadata": {},
   "outputs": [],
   "source": [
    "# insert your code here\n"
   ]
  },
  {
   "cell_type": "markdown",
   "metadata": {},
   "source": [
    "**4. Plot the magnitude of both filters' DTFTs in decibels.**\n",
    "\n",
    "**Hint:** the magnitude of the response in decibels is given by $|H_{\\text{dB}}(e^{j\\omega})| = 20 \\log10 |H(e^{j\\omega})|$. Note that the ```np.log``` command in Python computes the natural logarithm. Therefore, use the ```np.log10``` command to compute\n",
    "decibels. "
   ]
  },
  {
   "cell_type": "code",
   "execution_count": 27,
   "metadata": {},
   "outputs": [],
   "source": [
    "# insert your code here\n"
   ]
  },
  {
   "cell_type": "markdown",
   "metadata": {},
   "source": [
    "**5. Explain how the filter size effects the stopband ripple. Why does it have this effect?**"
   ]
  },
  {
   "cell_type": "markdown",
   "metadata": {},
   "source": [
    "insert your answer here"
   ]
  },
  {
   "cell_type": "markdown",
   "metadata": {},
   "source": [
    "**6. Load the file ```nspeech2.npy``` and play it. Also, note the quality of the speech and background noise.**"
   ]
  },
  {
   "cell_type": "code",
   "execution_count": 28,
   "metadata": {},
   "outputs": [],
   "source": [
    "# insert your code here\n"
   ]
  },
  {
   "cell_type": "markdown",
   "metadata": {},
   "source": [
    "**7. Apply the two filters with the above sizes to this signal. Since these are FIR filters, you can simply convolve them with the audio signal. Listen carefully to the unfiltered and filtered signals, and note the result. Can you hear a difference between the two filtered signals? In order to hear the filtered signals better, you may want to multiply each of them by 2 or 3 before using sound.**"
   ]
  },
  {
   "cell_type": "code",
   "execution_count": 29,
   "metadata": {},
   "outputs": [],
   "source": [
    "# first filter\n"
   ]
  },
  {
   "cell_type": "code",
   "execution_count": 30,
   "metadata": {},
   "outputs": [],
   "source": [
    "# second filter\n"
   ]
  },
  {
   "cell_type": "markdown",
   "metadata": {},
   "source": [
    "insert your answer here"
   ]
  },
  {
   "cell_type": "markdown",
   "metadata": {},
   "source": [
    "**8. Comment on the quality of the filtered signals. Does the filter size have a noticeable\n",
    "effect on the audio quality?**"
   ]
  },
  {
   "cell_type": "markdown",
   "metadata": {},
   "source": [
    "insert your answer here"
   ]
  }
 ],
 "metadata": {
  "kernelspec": {
   "display_name": "Python 3 (ipykernel)",
   "language": "python",
   "name": "python3"
  },
  "language_info": {
   "codemirror_mode": {
    "name": "ipython",
    "version": 3
   },
   "file_extension": ".py",
   "mimetype": "text/x-python",
   "name": "python",
   "nbconvert_exporter": "python",
   "pygments_lexer": "ipython3",
   "version": "3.8.1"
  }
 },
 "nbformat": 4,
 "nbformat_minor": 2
}
